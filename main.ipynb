{
 "cells": [
  {
   "cell_type": "code",
   "execution_count": null,
   "id": "02c76f46",
   "metadata": {},
   "outputs": [],
   "source": [
    "from ultralytics import YOLO\n",
    "import os, csv, cv2"
   ]
  },
  {
   "cell_type": "code",
   "execution_count": 11,
   "id": "232167ab",
   "metadata": {},
   "outputs": [],
   "source": [
    "person_model = YOLO(\"weight/yolov8s.pt\")\n",
    "face_model = YOLO(\"weight/yolov8n-face-lindevs.pt\")\n",
    "head_model = YOLO(\"weight/nano.pt\")"
   ]
  },
  {
   "cell_type": "code",
   "execution_count": null,
   "id": "0f1df28e",
   "metadata": {},
   "outputs": [],
   "source": [
    "INPUT_VIDEO = \"input_video.mp4\"\n",
    "CONFIDENCE = 0.35\n",
    "IMGSZ = 960\n",
    "SAVE_DIR = \"out/\""
   ]
  },
  {
   "cell_type": "code",
   "execution_count": 15,
   "id": "a3d6e5be",
   "metadata": {},
   "outputs": [],
   "source": [
    "OUT = f\"{SAVE_DIR}detection.mp4\"\n",
    "CSV = f\"{SAVE_DIR}count.csv\"\n",
    "cap = cv2.VideoCapture(INPUT_VIDEO)\n",
    "w, h = int(cap.get(3)), int(cap.get(4))\n",
    "fps = cap.get(cv2.CAP_PROP_FPS) or 30\n",
    "fourcc = cv2.VideoWriter_fourcc(*\"mp4v\")\n",
    "writer = cv2.VideoWriter(OUT, fourcc, fps, (w,h))"
   ]
  },
  {
   "cell_type": "code",
   "execution_count": 14,
   "id": "59093ceb",
   "metadata": {},
   "outputs": [],
   "source": [
    "def to_list(result):\n",
    "    return result.boxes.xyxy.cpu().numpy().astype(int).tolist(), result.boxes.conf.cpu().numpy().tolist()"
   ]
  },
  {
   "cell_type": "code",
   "execution_count": 19,
   "id": "6bc789c3",
   "metadata": {},
   "outputs": [
    {
     "name": "stdout",
     "output_type": "stream",
     "text": [
      "Saved: outdetection.mp4 CSV: outcount.csv\n"
     ]
    }
   ],
   "source": [
    "with open(CSV, \"w\", newline = \"\") as f:\n",
    "    wr = csv.writer(f)\n",
    "    wr.writerow([\"frame\", \"n_person\", \"n_face\", \"n_head\"])\n",
    "    frame = 0\n",
    "    while True:\n",
    "        ok, img = cap.read()\n",
    "        if not ok: break\n",
    "        frame += 1\n",
    "        r_p = person_model.predict(img, classes = [0], conf = CONFIDENCE, imgsz = IMGSZ, verbose = False)[0]\n",
    "        r_h = head_model.predict(img, conf = CONFIDENCE, imgsz = IMGSZ, verbose = False)[0]\n",
    "        r_f = face_model.predict(img, conf = CONFIDENCE, imgsz = IMGSZ, verbose = False)[0]\n",
    "\n",
    "        P, Pc = to_list(r_p)\n",
    "        F, Fc = to_list(r_f)\n",
    "        H, Hc = to_list(r_h)\n",
    "        \n",
    "        for x1, y1, x2, y2 in P: cv2.rectangle(img, (x1,y1), (x2,y2), (0,255,0), 2)\n",
    "        for x1, y1, x2, y2 in F: cv2.rectangle(img, (x1,y1), (x2,y2), (255,0,0), 2)\n",
    "        for x1, y1, x2, y2 in H: cv2.rectangle(img, (x1,y1), (x2,y2), (255,0,255), 2)\n",
    "        \n",
    "        wr.writerow([frame, len(P), len(F), len(H)])\n",
    "        writer.write(img)\n",
    "        \n",
    "cap.release(); writer.release()\n",
    "print(\"Saved:\", OUT, \"CSV:\", CSV)\n",
    "        "
   ]
  },
  {
   "cell_type": "code",
   "execution_count": null,
   "id": "bfb601fa",
   "metadata": {},
   "outputs": [],
   "source": []
  }
 ],
 "metadata": {
  "kernelspec": {
   "display_name": "Python 3",
   "language": "python",
   "name": "python3"
  },
  "language_info": {
   "codemirror_mode": {
    "name": "ipython",
    "version": 3
   },
   "file_extension": ".py",
   "mimetype": "text/x-python",
   "name": "python",
   "nbconvert_exporter": "python",
   "pygments_lexer": "ipython3",
   "version": "3.11.5"
  }
 },
 "nbformat": 4,
 "nbformat_minor": 5
}
